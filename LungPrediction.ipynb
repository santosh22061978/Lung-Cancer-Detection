{
 "cells": [
  {
   "cell_type": "code",
   "execution_count": 1,
   "metadata": {},
   "outputs": [],
   "source": [
    "import warnings\n",
    "warnings.filterwarnings('ignore')"
   ]
  },
  {
   "cell_type": "code",
   "execution_count": 2,
   "metadata": {},
   "outputs": [
    {
     "name": "stderr",
     "output_type": "stream",
     "text": [
      "Using TensorFlow backend.\n"
     ]
    }
   ],
   "source": [
    "import os\n",
    "import sys\n",
    "\n",
    "import numpy as np\n",
    "import pandas as pd\n",
    "from preprocessing import (read_dcm_sequence, check_sequence, make_3d_array,\n",
    "                                  resample, make_lungs_mask, extract_lungs)\n",
    "from plot import show_slices\n",
    "from file import makedir\n",
    "from keras.models import load_model\n",
    "from model import LungNet\n",
    "from keras.optimizers import Adam\n",
    "import os\n",
    "import sys\n",
    "import csv\n",
    "from datagen import GeneratorFactory\n"
   ]
  },
  {
   "cell_type": "code",
   "execution_count": 3,
   "metadata": {},
   "outputs": [
    {
     "name": "stdout",
     "output_type": "stream",
     "text": [
      "success 12345 -423 ((25, 272), (68, 269), (29, 307)) (114, 512, 512) (283, 340, 340) (247, 201, 278)\n"
     ]
    }
   ],
   "source": [
    "path = 'C:\\\\Users\\\\s57kumar\\\\Desktop\\\\inputimagedata\\\\input\\\\LIDC-IDRI-0014\\\\01-01-2000-38612\\\\3000562-07402'\n",
    "\n",
    "new_spacing = (1, 1, 1)  # (2, 2, 2)\n",
    "kernel_size = 5  # 3\n",
    "slice_drop_prob = 0.005\n",
    "save_png = False\n",
    "template = \"An exception of type {0} occurred. Arguments:\\n{1!r}\"\n",
    "PatientID=0\n",
    "array_lungs = None\n",
    "\n",
    "try:\n",
    "    # Get slice sequence\n",
    "    patient_id = 12345\n",
    "    dcm_seq = read_dcm_sequence(patient_id, path)\n",
    "\n",
    "    PatientID= dcm_seq[0].PatientID\n",
    "    dcm_seq = check_sequence(dcm_seq)\n",
    "\n",
    "    # Stack into 3D array in Hounsfield Units\n",
    "    array, spacing = make_3d_array(dcm_seq)\n",
    "\n",
    "    # Resample\n",
    "    array_resampled = resample(array, spacing, new_spacing)\n",
    "\n",
    "    # Extract lungs\n",
    "    mask_lungs, thres = make_lungs_mask(array_resampled, kernel_size=kernel_size)\n",
    "    array_lungs, box = extract_lungs(array_resampled, mask_lungs, slice_drop_prob)\n",
    "    #print(array_lungs)\n",
    "    npz_filename = 'temp.npz'\n",
    "    np.savez_compressed(npz_filename, array_lungs=array_lungs)\n",
    "except Exception as ex:\n",
    "    message = template.format(type(ex).__name__, ex.args)\n",
    "    print('fail', patient_id, message)\n",
    "    #continue\n",
    "else:\n",
    "    print(\n",
    "        'success',\n",
    "        patient_id, thres, box,\n",
    "        array.shape, array_resampled.shape, array_lungs.shape\n",
    "        )"
   ]
  },
  {
   "cell_type": "code",
   "execution_count": 4,
   "metadata": {},
   "outputs": [
    {
     "name": "stdout",
     "output_type": "stream",
     "text": [
      "WARNING:tensorflow:From C:\\ProgramData\\Anaconda3\\lib\\site-packages\\tensorflow\\python\\framework\\op_def_library.py:263: colocate_with (from tensorflow.python.framework.ops) is deprecated and will be removed in a future version.\n",
      "Instructions for updating:\n",
      "Colocations handled automatically by placer.\n",
      "[INFO] loading network...\n"
     ]
    }
   ],
   "source": [
    "# load the trained convolutional neural network\n",
    "sys.path.append('../')\n",
    "\n",
    "nb_filters_per_layer = (64, 128, 256)\n",
    "kernel_size = (3, 3, 3)\n",
    "padding = 'same'\n",
    "batch_normalization = False\n",
    "spp_nb_bins_per_level = (1, 2, 4)\n",
    "n_dense = (1024, 1024)\n",
    "dropout_rate = None\n",
    "learning_rate = 1e-7\n",
    "optimizer = Adam(lr=learning_rate)\n",
    "es_patience = 10\n",
    "checkpoints_path =  'output_model'\n",
    "import time\n",
    "time_string = time.strftime('%Y%m%d_%H%M%S')\n",
    "model_path = os.path.join(checkpoints_path, time_string)\n",
    "print(\"[INFO] loading network...\")\n",
    "lungnet = LungNet(nb_filters_per_layer=nb_filters_per_layer, kernel_size=kernel_size, padding=padding,\n",
    "                  batch_normalization=batch_normalization,spp_nb_bins_per_level=spp_nb_bins_per_level, \n",
    "                  n_dense=n_dense, dropout_rate=dropout_rate,optimizer=optimizer, es_patience=es_patience,\n",
    "                 model_path=model_path)\n",
    "    #prob = lungnet.predict(x)\n",
    "\n",
    "#\n",
    "    "
   ]
  },
  {
   "cell_type": "code",
   "execution_count": 5,
   "metadata": {},
   "outputs": [
    {
     "name": "stdout",
     "output_type": "stream",
     "text": [
      "encoder_conv_1-2_0 is set to 0\n",
      "encoder_conv_2-1_0 is set to 0\n",
      "encoder_conv_1-2_1 is set to 0\n",
      "encoder_conv_2-1_1 is set to 0\n"
     ]
    }
   ],
   "source": [
    "freeze = ['encoder_conv_1-2_0', 'encoder_conv_2-1_0','encoder_conv_1-2_1', 'encoder_conv_2-1_1']\n",
    "lungnet.build_model(freeze=freeze)"
   ]
  },
  {
   "cell_type": "code",
   "execution_count": 6,
   "metadata": {},
   "outputs": [
    {
     "name": "stdout",
     "output_type": "stream",
     "text": [
      "Loaded weights from file.\n"
     ]
    }
   ],
   "source": [
    "lungnet.load_weights_from_file(\"output_model\\\\weights.15-0.652332.hdf5\")"
   ]
  },
  {
   "cell_type": "code",
   "execution_count": 7,
   "metadata": {},
   "outputs": [],
   "source": [
    "def predict_classes(y_scores, t):\n",
    "    return ['Cancer' if y >= t else 'No Cancer' for y in y_scores]"
   ]
  },
  {
   "cell_type": "code",
   "execution_count": 8,
   "metadata": {},
   "outputs": [
    {
     "name": "stdout",
     "output_type": "stream",
     "text": [
      "Patient Id LIDC-IDRI-0014 has ['Cancer'] with [[79.39453]]% probability \n"
     ]
    }
   ],
   "source": [
    "if(array_lungs is not None):\n",
    "    val_gen_factory = GeneratorFactory(volume_resize_factor=0.3, random_rotation=False, random_offset_range=None)\n",
    "    test_gen = val_gen_factory.build_input_predict('temp.npz')\n",
    "    pred_data=lungnet.predict(test_gen)\n",
    "    predlabel = (predict_classes(pred_data,0.65))\n",
    "    #print(predlabel)\n",
    "    print(\"Patient Id \" + str(PatientID) + \" has \" +  str(predlabel) + \" with \" + str(( pred_data * 100 )) + \"% probability \")"
   ]
  },
  {
   "cell_type": "code",
   "execution_count": null,
   "metadata": {},
   "outputs": [],
   "source": []
  }
 ],
 "metadata": {
  "kernelspec": {
   "display_name": "Python 3",
   "language": "python",
   "name": "python3"
  },
  "language_info": {
   "codemirror_mode": {
    "name": "ipython",
    "version": 3
   },
   "file_extension": ".py",
   "mimetype": "text/x-python",
   "name": "python",
   "nbconvert_exporter": "python",
   "pygments_lexer": "ipython3",
   "version": "3.6.9"
  }
 },
 "nbformat": 4,
 "nbformat_minor": 2
}
