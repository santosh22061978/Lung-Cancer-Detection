{
 "cells": [
  {
   "cell_type": "code",
   "execution_count": 1,
   "metadata": {},
   "outputs": [],
   "source": [
    "def adjusted_classes(y_scores, t):\n",
    "    return [1 if y >= t else 0 for y in y_scores]\n",
    "    "
   ]
  },
  {
   "cell_type": "code",
   "execution_count": 3,
   "metadata": {},
   "outputs": [],
   "source": [
    "from sklearn.metrics import make_scorer,fbeta_score\n",
    "from sklearn.metrics import roc_curve, precision_recall_curve, auc, make_scorer, recall_score, accuracy_score, precision_score, confusion_matrix\n",
    "from sklearn.metrics import accuracy_score, confusion_matrix, precision_recall_fscore_support\n",
    "from sklearn.metrics import classification_report\n",
    "from sklearn.metrics import roc_curve\n",
    "from sklearn.metrics import roc_auc_score\n",
    "from matplotlib import pyplot\n",
    "%matplotlib inline"
   ]
  },
  {
   "cell_type": "code",
   "execution_count": 4,
   "metadata": {},
   "outputs": [],
   "source": [
    "import pandas as pd"
   ]
  },
  {
   "cell_type": "code",
   "execution_count": 5,
   "metadata": {},
   "outputs": [],
   "source": [
    "pred_data = pd.read_csv(\"lung_cancer_pred.csv\")"
   ]
  },
  {
   "cell_type": "code",
   "execution_count": 6,
   "metadata": {},
   "outputs": [
    {
     "name": "stdout",
     "output_type": "stream",
     "text": [
      "<class 'pandas.core.frame.DataFrame'>\n",
      "RangeIndex: 947 entries, 0 to 946\n",
      "Data columns (total 3 columns):\n",
      "id               947 non-null object\n",
      "PredictedProb    947 non-null float64\n",
      "Actual           947 non-null int64\n",
      "dtypes: float64(1), int64(1), object(1)\n",
      "memory usage: 22.3+ KB\n"
     ]
    }
   ],
   "source": [
    "pred_data.info()"
   ]
  },
  {
   "cell_type": "code",
   "execution_count": 7,
   "metadata": {},
   "outputs": [],
   "source": [
    "def precision_recall_threshold(data_test,t=0.5):\n",
    "    \n",
    "    # ge.nerate new class predictions based on the adjusted_classes\n",
    "    # function above and view the resulting confusion matrix.\n",
    "    print(\"Threshold : {}\".format(t))\n",
    "    data_test['AdjustedClass'] = adjusted_classes(data_test['PredictedProb'], t)\n",
    "    print(pd.DataFrame(confusion_matrix(data_test['Actual'],data_test['AdjustedClass'],labels=[1,0]),\n",
    "                       columns=['Pred_Cancer', 'Pred_No_Cancer'], \n",
    "                       index=['Cancer', 'No_Cancer']))\n",
    "    cp_LR_UpT = classification_report(data_test['Actual'],data_test['AdjustedClass'])\n",
    "    print(cp_LR_UpT)"
   ]
  },
  {
   "cell_type": "code",
   "execution_count": 8,
   "metadata": {},
   "outputs": [
    {
     "name": "stdout",
     "output_type": "stream",
     "text": [
      "Threshold : 0.65\n",
      "           Pred_Cancer  Pred_No_Cancer\n",
      "Cancer             383             236\n",
      "No_Cancer          162             166\n",
      "              precision    recall  f1-score   support\n",
      "\n",
      "           0       0.41      0.51      0.45       328\n",
      "           1       0.70      0.62      0.66       619\n",
      "\n",
      "    accuracy                           0.58       947\n",
      "   macro avg       0.56      0.56      0.56       947\n",
      "weighted avg       0.60      0.58      0.59       947\n",
      "\n"
     ]
    }
   ],
   "source": [
    "precision_recall_threshold(pred_data,0.65)"
   ]
  },
  {
   "cell_type": "code",
   "execution_count": 14,
   "metadata": {},
   "outputs": [],
   "source": [
    "from sklearn.metrics import precision_recall_curve"
   ]
  },
  {
   "cell_type": "code",
   "execution_count": 14,
   "metadata": {},
   "outputs": [
    {
     "data": {
      "text/plain": [
       "(array([0.        , 0.        , 0.        , 0.00304878, 0.00304878,\n",
       "        0.00609756, 0.00609756, 0.00914634, 0.00914634, 0.0152439 ,\n",
       "        0.0152439 , 0.01829268, 0.01829268, 0.02439024, 0.02439024,\n",
       "        0.0304878 , 0.0304878 , 0.03353659, 0.03353659, 0.03658537,\n",
       "        0.03658537, 0.03963415, 0.03963415, 0.04268293, 0.04268293,\n",
       "        0.04573171, 0.04573171, 0.04878049, 0.04878049, 0.05182927,\n",
       "        0.05182927, 0.05487805, 0.05487805, 0.05792683, 0.05792683,\n",
       "        0.06097561, 0.06097561, 0.06402439, 0.06402439, 0.07012195,\n",
       "        0.07012195, 0.07317073, 0.07317073, 0.07926829, 0.07926829,\n",
       "        0.08231707, 0.08231707, 0.08536585, 0.08536585, 0.08841463,\n",
       "        0.08841463, 0.0945122 , 0.0945122 , 0.10060976, 0.10060976,\n",
       "        0.10365854, 0.10365854, 0.10670732, 0.10670732, 0.1097561 ,\n",
       "        0.1097561 , 0.11280488, 0.11280488, 0.11890244, 0.11890244,\n",
       "        0.12195122, 0.12195122, 0.125     , 0.125     , 0.12804878,\n",
       "        0.12804878, 0.13109756, 0.13109756, 0.13414634, 0.13414634,\n",
       "        0.13719512, 0.13719512, 0.1402439 , 0.1402439 , 0.14329268,\n",
       "        0.14329268, 0.14939024, 0.14939024, 0.15243902, 0.15243902,\n",
       "        0.1554878 , 0.1554878 , 0.15853659, 0.15853659, 0.16158537,\n",
       "        0.16158537, 0.16463415, 0.16463415, 0.17073171, 0.17073171,\n",
       "        0.17682927, 0.17682927, 0.17987805, 0.17987805, 0.18292683,\n",
       "        0.18292683, 0.18597561, 0.18597561, 0.18902439, 0.18902439,\n",
       "        0.19207317, 0.19207317, 0.19817073, 0.19817073, 0.20121951,\n",
       "        0.20121951, 0.20731707, 0.20731707, 0.21341463, 0.21341463,\n",
       "        0.22256098, 0.22256098, 0.22865854, 0.22865854, 0.23170732,\n",
       "        0.23170732, 0.23780488, 0.23780488, 0.24085366, 0.24085366,\n",
       "        0.25      , 0.25      , 0.25304878, 0.25304878, 0.25609756,\n",
       "        0.25609756, 0.2652439 , 0.2652439 , 0.26829268, 0.26829268,\n",
       "        0.27439024, 0.27439024, 0.28353659, 0.28353659, 0.28963415,\n",
       "        0.28963415, 0.29573171, 0.29573171, 0.30182927, 0.30182927,\n",
       "        0.30792683, 0.30792683, 0.31097561, 0.31097561, 0.31402439,\n",
       "        0.31402439, 0.32012195, 0.32012195, 0.33231707, 0.33231707,\n",
       "        0.33841463, 0.33841463, 0.34146341, 0.34146341, 0.3445122 ,\n",
       "        0.3445122 , 0.34756098, 0.34756098, 0.35670732, 0.35670732,\n",
       "        0.36280488, 0.36280488, 0.36585366, 0.36585366, 0.36890244,\n",
       "        0.36890244, 0.37195122, 0.37195122, 0.38109756, 0.38109756,\n",
       "        0.38414634, 0.38414634, 0.38719512, 0.38719512, 0.39329268,\n",
       "        0.39329268, 0.39939024, 0.39939024, 0.40243902, 0.40243902,\n",
       "        0.4054878 , 0.4054878 , 0.40853659, 0.40853659, 0.41158537,\n",
       "        0.41158537, 0.41768293, 0.41768293, 0.42682927, 0.42682927,\n",
       "        0.42987805, 0.42987805, 0.43292683, 0.43292683, 0.43597561,\n",
       "        0.43597561, 0.43902439, 0.43902439, 0.44207317, 0.44207317,\n",
       "        0.44512195, 0.44512195, 0.45121951, 0.45121951, 0.45731707,\n",
       "        0.45731707, 0.46341463, 0.46341463, 0.4695122 , 0.4695122 ,\n",
       "        0.47560976, 0.47560976, 0.48170732, 0.48170732, 0.49085366,\n",
       "        0.49085366, 0.49390244, 0.49390244, 0.49695122, 0.49695122,\n",
       "        0.51829268, 0.51829268, 0.52134146, 0.52134146, 0.52743902,\n",
       "        0.52743902, 0.5304878 , 0.5304878 , 0.53353659, 0.53353659,\n",
       "        0.53658537, 0.53658537, 0.53963415, 0.53963415, 0.54573171,\n",
       "        0.54573171, 0.55792683, 0.55792683, 0.56097561, 0.56097561,\n",
       "        0.56402439, 0.56402439, 0.56707317, 0.56707317, 0.57012195,\n",
       "        0.57012195, 0.57621951, 0.57621951, 0.57926829, 0.57926829,\n",
       "        0.58536585, 0.58536585, 0.58841463, 0.58841463, 0.5945122 ,\n",
       "        0.5945122 , 0.59756098, 0.59756098, 0.60060976, 0.60060976,\n",
       "        0.60670732, 0.60670732, 0.61280488, 0.61280488, 0.625     ,\n",
       "        0.625     , 0.62804878, 0.62804878, 0.63109756, 0.63109756,\n",
       "        0.63414634, 0.63414634, 0.64329268, 0.64329268, 0.64634146,\n",
       "        0.64634146, 0.65853659, 0.65853659, 0.66463415, 0.66463415,\n",
       "        0.66768293, 0.66768293, 0.67073171, 0.67073171, 0.67682927,\n",
       "        0.67682927, 0.67987805, 0.67987805, 0.68292683, 0.68292683,\n",
       "        0.68597561, 0.68597561, 0.69207317, 0.69207317, 0.69512195,\n",
       "        0.69512195, 0.69817073, 0.69817073, 0.70426829, 0.70426829,\n",
       "        0.71646341, 0.71646341, 0.7195122 , 0.7195122 , 0.72256098,\n",
       "        0.72256098, 0.72560976, 0.72560976, 0.72865854, 0.72865854,\n",
       "        0.73170732, 0.73170732, 0.74390244, 0.74390244, 0.74695122,\n",
       "        0.74695122, 0.75      , 0.75      , 0.75609756, 0.75609756,\n",
       "        0.75914634, 0.75914634, 0.76219512, 0.76219512, 0.7652439 ,\n",
       "        0.7652439 , 0.76829268, 0.76829268, 0.77134146, 0.77134146,\n",
       "        0.78353659, 0.78353659, 0.78658537, 0.78658537, 0.79268293,\n",
       "        0.79268293, 0.79573171, 0.79573171, 0.80182927, 0.80182927,\n",
       "        0.80487805, 0.80487805, 0.80792683, 0.80792683, 0.81097561,\n",
       "        0.81097561, 0.81402439, 0.81402439, 0.81707317, 0.81707317,\n",
       "        0.82317073, 0.82317073, 0.82926829, 0.82926829, 0.83231707,\n",
       "        0.83231707, 0.84146341, 0.84146341, 0.84756098, 0.84756098,\n",
       "        0.85060976, 0.85060976, 0.85365854, 0.85365854, 0.8597561 ,\n",
       "        0.8597561 , 0.875     , 0.875     , 0.87804878, 0.87804878,\n",
       "        0.88109756, 0.88109756, 0.88414634, 0.88414634, 0.8902439 ,\n",
       "        0.8902439 , 0.89329268, 0.89329268, 0.89939024, 0.89939024,\n",
       "        0.90243902, 0.90243902, 0.9054878 , 0.9054878 , 0.90853659,\n",
       "        0.90853659, 0.91158537, 0.91158537, 0.91463415, 0.91463415,\n",
       "        0.92682927, 0.92682927, 0.92987805, 0.92987805, 0.93292683,\n",
       "        0.93292683, 0.94512195, 0.94512195, 0.95121951, 0.95121951,\n",
       "        0.96036585, 0.96036585, 0.96341463, 0.96341463, 0.9695122 ,\n",
       "        0.9695122 , 0.97256098, 0.97256098, 1.        , 1.        ]),\n",
       " array([0.        , 0.00161551, 0.00484653, 0.00484653, 0.00807754,\n",
       "        0.00807754, 0.01938611, 0.01938611, 0.02907916, 0.02907916,\n",
       "        0.03392569, 0.03392569, 0.06462036, 0.06462036, 0.06785137,\n",
       "        0.06785137, 0.07754443, 0.07754443, 0.07915994, 0.07915994,\n",
       "        0.08400646, 0.08400646, 0.08562197, 0.08562197, 0.0904685 ,\n",
       "        0.0904685 , 0.09369952, 0.09369952, 0.10662359, 0.10662359,\n",
       "        0.11308562, 0.11308562, 0.11631664, 0.11631664, 0.12439418,\n",
       "        0.12439418, 0.1276252 , 0.1276252 , 0.13408724, 0.13408724,\n",
       "        0.14701131, 0.14701131, 0.15024233, 0.15024233, 0.15185784,\n",
       "        0.15185784, 0.15347334, 0.15347334, 0.15993538, 0.15993538,\n",
       "        0.16155089, 0.16155089, 0.16639742, 0.16639742, 0.16801292,\n",
       "        0.16801292, 0.17124394, 0.17124394, 0.17285945, 0.17285945,\n",
       "        0.1825525 , 0.1825525 , 0.18578352, 0.18578352, 0.2180937 ,\n",
       "        0.2180937 , 0.22132472, 0.22132472, 0.22294023, 0.22294023,\n",
       "        0.22617124, 0.22617124, 0.22778675, 0.22778675, 0.23424879,\n",
       "        0.23424879, 0.24717286, 0.24717286, 0.25201939, 0.25201939,\n",
       "        0.25363489, 0.25363489, 0.25686591, 0.25686591, 0.25848142,\n",
       "        0.25848142, 0.26494346, 0.26494346, 0.27948304, 0.27948304,\n",
       "        0.28594507, 0.28594507, 0.28756058, 0.28756058, 0.29240711,\n",
       "        0.29240711, 0.29402262, 0.29402262, 0.31663974, 0.31663974,\n",
       "        0.31987076, 0.31987076, 0.33279483, 0.33279483, 0.33764136,\n",
       "        0.33764136, 0.35218094, 0.35218094, 0.35702746, 0.35702746,\n",
       "        0.36025848, 0.36025848, 0.36995153, 0.36995153, 0.37156704,\n",
       "        0.37156704, 0.37318255, 0.37318255, 0.37479806, 0.37479806,\n",
       "        0.37802908, 0.37802908, 0.3812601 , 0.3812601 , 0.38287561,\n",
       "        0.38287561, 0.38449111, 0.38449111, 0.38933764, 0.38933764,\n",
       "        0.39418417, 0.39418417, 0.40710824, 0.40710824, 0.41195477,\n",
       "        0.41195477, 0.41357027, 0.41357027, 0.41680129, 0.41680129,\n",
       "        0.42003231, 0.42003231, 0.42164782, 0.42164782, 0.42326333,\n",
       "        0.42326333, 0.44103393, 0.44103393, 0.44264943, 0.44264943,\n",
       "        0.44588045, 0.44588045, 0.44749596, 0.44749596, 0.44911147,\n",
       "        0.44911147, 0.45072698, 0.45072698, 0.45718901, 0.45718901,\n",
       "        0.45880452, 0.45880452, 0.46042003, 0.46042003, 0.46203554,\n",
       "        0.46203554, 0.46526656, 0.46526656, 0.46688207, 0.46688207,\n",
       "        0.46849758, 0.46849758, 0.48465267, 0.48465267, 0.49919225,\n",
       "        0.49919225, 0.50242326, 0.50242326, 0.50726979, 0.50726979,\n",
       "        0.5088853 , 0.5088853 , 0.52180937, 0.52180937, 0.52827141,\n",
       "        0.52827141, 0.53796446, 0.53796446, 0.53957997, 0.53957997,\n",
       "        0.54119548, 0.54119548, 0.54281099, 0.54281099, 0.54765751,\n",
       "        0.54765751, 0.55250404, 0.55250404, 0.55411955, 0.55411955,\n",
       "        0.55735057, 0.55735057, 0.55896607, 0.55896607, 0.56542811,\n",
       "        0.56542811, 0.56704362, 0.56704362, 0.57027464, 0.57027464,\n",
       "        0.57189015, 0.57189015, 0.57350565, 0.57350565, 0.58642973,\n",
       "        0.58642973, 0.59612278, 0.59612278, 0.5993538 , 0.5993538 ,\n",
       "        0.61550889, 0.61550889, 0.62843296, 0.62843296, 0.63166397,\n",
       "        0.63166397, 0.63489499, 0.63489499, 0.63974152, 0.63974152,\n",
       "        0.64297254, 0.64297254, 0.64943457, 0.64943457, 0.6542811 ,\n",
       "        0.6542811 , 0.65589661, 0.65589661, 0.65751212, 0.65751212,\n",
       "        0.65912763, 0.65912763, 0.66235864, 0.66235864, 0.67528271,\n",
       "        0.67528271, 0.68497577, 0.68497577, 0.68820679, 0.68820679,\n",
       "        0.68982229, 0.68982229, 0.69628433, 0.69628433, 0.69951535,\n",
       "        0.69951535, 0.70274637, 0.70274637, 0.70436187, 0.70436187,\n",
       "        0.70759289, 0.70759289, 0.71405493, 0.71405493, 0.72051696,\n",
       "        0.72051696, 0.72536349, 0.72536349, 0.73505654, 0.73505654,\n",
       "        0.73667205, 0.73667205, 0.73990307, 0.73990307, 0.7447496 ,\n",
       "        0.7447496 , 0.74798061, 0.74798061, 0.75121163, 0.75121163,\n",
       "        0.75282714, 0.75282714, 0.75444265, 0.75444265, 0.75605816,\n",
       "        0.75605816, 0.75767367, 0.75767367, 0.75928918, 0.75928918,\n",
       "        0.76090468, 0.76090468, 0.7641357 , 0.7641357 , 0.76575121,\n",
       "        0.76575121, 0.76736672, 0.76736672, 0.77544426, 0.77544426,\n",
       "        0.77705977, 0.77705977, 0.7819063 , 0.7819063 , 0.78513732,\n",
       "        0.78513732, 0.79321486, 0.79321486, 0.79806139, 0.79806139,\n",
       "        0.80290792, 0.80290792, 0.80775444, 0.80775444, 0.80936995,\n",
       "        0.80936995, 0.81421648, 0.81421648, 0.81583199, 0.81583199,\n",
       "        0.8174475 , 0.8174475 , 0.82067851, 0.82067851, 0.82714055,\n",
       "        0.82714055, 0.82875606, 0.82875606, 0.83198708, 0.83198708,\n",
       "        0.83844911, 0.83844911, 0.84168013, 0.84168013, 0.84814216,\n",
       "        0.84814216, 0.85945073, 0.85945073, 0.86268174, 0.86268174,\n",
       "        0.86591276, 0.86591276, 0.86914378, 0.86914378, 0.8723748 ,\n",
       "        0.8723748 , 0.87399031, 0.87399031, 0.87722132, 0.87722132,\n",
       "        0.88045234, 0.88045234, 0.88206785, 0.88206785, 0.88368336,\n",
       "        0.88368336, 0.88529887, 0.88529887, 0.8901454 , 0.8901454 ,\n",
       "        0.8917609 , 0.8917609 , 0.89337641, 0.89337641, 0.90145396,\n",
       "        0.90145396, 0.90468498, 0.90468498, 0.90630048, 0.90630048,\n",
       "        0.9095315 , 0.9095315 , 0.91114701, 0.91114701, 0.91760905,\n",
       "        0.91760905, 0.92084006, 0.92084006, 0.92407108, 0.92407108,\n",
       "        0.92891761, 0.92891761, 0.93376414, 0.93376414, 0.93537964,\n",
       "        0.93537964, 0.93861066, 0.93861066, 0.94830372, 0.94830372,\n",
       "        0.95315024, 0.95315024, 0.95476575, 0.95476575, 0.95638126,\n",
       "        0.95638126, 0.95799677, 0.95799677, 0.95961228, 0.95961228,\n",
       "        0.96607431, 0.96607431, 0.97092084, 0.97092084, 0.97415186,\n",
       "        0.97415186, 0.97576737, 0.97576737, 0.97899838, 0.97899838,\n",
       "        0.98707593, 0.98707593, 0.99676898, 0.99676898, 1.        ]),\n",
       " array([1.85728574, 0.85728574, 0.84782076, 0.83447254, 0.8223995 ,\n",
       "        0.82201797, 0.807817  , 0.8064901 , 0.7972571 , 0.7967326 ,\n",
       "        0.7904115 , 0.7884049 , 0.77539146, 0.77434015, 0.77363217,\n",
       "        0.77121043, 0.7686826 , 0.76857114, 0.76719564, 0.7666505 ,\n",
       "        0.7646709 , 0.7638336 , 0.76377875, 0.76359296, 0.7605336 ,\n",
       "        0.7605149 , 0.7586422 , 0.7576129 , 0.7499683 , 0.7494782 ,\n",
       "        0.7472778 , 0.7469127 , 0.74640876, 0.7456255 , 0.74369884,\n",
       "        0.74347425, 0.7427143 , 0.7424928 , 0.74097   , 0.74083   ,\n",
       "        0.7383641 , 0.7383033 , 0.73697346, 0.7356281 , 0.73561925,\n",
       "        0.7353825 , 0.73513603, 0.73503476, 0.73360234, 0.73357916,\n",
       "        0.7334755 , 0.7319996 , 0.7304889 , 0.7298301 , 0.72960275,\n",
       "        0.7294793 , 0.72870064, 0.72842467, 0.72823083, 0.727752  ,\n",
       "        0.7237251 , 0.722919  , 0.7221322 , 0.72155064, 0.71592385,\n",
       "        0.715305  , 0.7149539 , 0.71469814, 0.7146966 , 0.71458364,\n",
       "        0.71399575, 0.7138496 , 0.71356577, 0.7133785 , 0.7128812 ,\n",
       "        0.7125872 , 0.71132284, 0.7110488 , 0.7105838 , 0.7105796 ,\n",
       "        0.7103879 , 0.7097199 , 0.7090558 , 0.70750844, 0.70744586,\n",
       "        0.7074052 , 0.7070258 , 0.70683366, 0.7043474 , 0.70434487,\n",
       "        0.7036468 , 0.7034399 , 0.70343673, 0.70291775, 0.7022296 ,\n",
       "        0.7011376 , 0.7009953 , 0.7008324 , 0.69859713, 0.6984048 ,\n",
       "        0.6982623 , 0.6977913 , 0.6945934 , 0.694512  , 0.6931656 ,\n",
       "        0.6923057 , 0.69060796, 0.6896905 , 0.68942636, 0.6893798 ,\n",
       "        0.68917775, 0.68846995, 0.6880078 , 0.6875525 , 0.6874414 ,\n",
       "        0.68685025, 0.6861072 , 0.68602407, 0.68600786, 0.6859172 ,\n",
       "        0.68518484, 0.6849221 , 0.68424326, 0.68393403, 0.68383497,\n",
       "        0.6835711 , 0.6834359 , 0.6829499 , 0.68243605, 0.68241847,\n",
       "        0.6815918 , 0.6809583 , 0.6796632 , 0.67932886, 0.67870104,\n",
       "        0.6784412 , 0.67825145, 0.6779922 , 0.67783463, 0.6778133 ,\n",
       "        0.6775512 , 0.677215  , 0.67699915, 0.6765932 , 0.6765015 ,\n",
       "        0.675991  , 0.6745204 , 0.6742969 , 0.674063  , 0.6736824 ,\n",
       "        0.673636  , 0.67354304, 0.6734654 , 0.6728949 , 0.6727727 ,\n",
       "        0.6727005 , 0.67233545, 0.6721267 , 0.6714876 , 0.67130524,\n",
       "        0.67041796, 0.6703185 , 0.6700004 , 0.6699376 , 0.66956544,\n",
       "        0.6693032 , 0.66918916, 0.66903883, 0.66902417, 0.6690236 ,\n",
       "        0.6690084 , 0.6688146 , 0.6669374 , 0.66661006, 0.6651759 ,\n",
       "        0.66510427, 0.664579  , 0.6643368 , 0.6639464 , 0.663922  ,\n",
       "        0.6637623 , 0.6633419 , 0.66272503, 0.6624789 , 0.66178304,\n",
       "        0.6615524 , 0.6605915 , 0.6604006 , 0.660332  , 0.6603161 ,\n",
       "        0.6602571 , 0.66011345, 0.65990144, 0.6591591 , 0.6580899 ,\n",
       "        0.65799373, 0.6574378 , 0.65720415, 0.65707886, 0.6570049 ,\n",
       "        0.65667593, 0.6566005 , 0.65615565, 0.6561287 , 0.6559578 ,\n",
       "        0.65590775, 0.65590554, 0.65559745, 0.6552053 , 0.65478206,\n",
       "        0.6547479 , 0.65439934, 0.6543247 , 0.65410894, 0.65331787,\n",
       "        0.65292543, 0.65268123, 0.65205795, 0.6515686 , 0.6515003 ,\n",
       "        0.65044343, 0.6502694 , 0.64930946, 0.6491773 , 0.6490966 ,\n",
       "        0.6470485 , 0.64699054, 0.6468367 , 0.64646035, 0.6461094 ,\n",
       "        0.64581215, 0.6457489 , 0.6452696 , 0.64490676, 0.6446956 ,\n",
       "        0.644575  , 0.6445242 , 0.6445161 , 0.6443028 , 0.6440419 ,\n",
       "        0.6440244 , 0.6437693 , 0.6434839 , 0.64286965, 0.64128745,\n",
       "        0.6412088 , 0.63958526, 0.63916   , 0.63833636, 0.6382678 ,\n",
       "        0.6380767 , 0.6379779 , 0.63713527, 0.63704854, 0.6368202 ,\n",
       "        0.6364634 , 0.6363527 , 0.6363469 , 0.6362999 , 0.63614464,\n",
       "        0.6354889 , 0.6354386 , 0.635116  , 0.6348636 , 0.63413763,\n",
       "        0.6339175 , 0.6332256 , 0.63301325, 0.6322273 , 0.6316831 ,\n",
       "        0.63116634, 0.6310317 , 0.63065594, 0.6305598 , 0.6303759 ,\n",
       "        0.62981695, 0.6294497 , 0.62877536, 0.62866426, 0.62849355,\n",
       "        0.62842095, 0.6282755 , 0.62812614, 0.6277219 , 0.6276503 ,\n",
       "        0.62740105, 0.6272771 , 0.6268817 , 0.62660104, 0.6261629 ,\n",
       "        0.6260716 , 0.6259518 , 0.6255938 , 0.625435  , 0.62541085,\n",
       "        0.62516063, 0.62510574, 0.6247845 , 0.6238347 , 0.6229812 ,\n",
       "        0.62293875, 0.6227621 , 0.62197936, 0.6213084 , 0.62108254,\n",
       "        0.6203798 , 0.61882323, 0.6187062 , 0.6183683 , 0.61836535,\n",
       "        0.6179575 , 0.6174867 , 0.6168057 , 0.61674464, 0.6166559 ,\n",
       "        0.616494  , 0.6160029 , 0.61540794, 0.6151608 , 0.61501986,\n",
       "        0.614838  , 0.61475855, 0.6143969 , 0.6140851 , 0.6135819 ,\n",
       "        0.61341846, 0.61330503, 0.6130076 , 0.6128177 , 0.61269706,\n",
       "        0.6125354 , 0.612499  , 0.61239725, 0.6122149 , 0.6115302 ,\n",
       "        0.6094927 , 0.608997  , 0.608938  , 0.60879064, 0.6085899 ,\n",
       "        0.608567  , 0.60830176, 0.6076138 , 0.6069079 , 0.60674644,\n",
       "        0.60666394, 0.6063867 , 0.60618234, 0.6058829 , 0.605679  ,\n",
       "        0.60439324, 0.6043358 , 0.6037661 , 0.6036703 , 0.6028766 ,\n",
       "        0.60264754, 0.60261846, 0.601907  , 0.6017106 , 0.6015681 ,\n",
       "        0.60150975, 0.6004683 , 0.6003903 , 0.6002424 , 0.5996219 ,\n",
       "        0.5996159 , 0.5988328 , 0.59864265, 0.59853786, 0.5973264 ,\n",
       "        0.5968948 , 0.59410954, 0.5938664 , 0.59293455, 0.5917241 ,\n",
       "        0.5916497 , 0.5915732 , 0.5915573 , 0.59144396, 0.5906626 ,\n",
       "        0.5901149 , 0.5898369 , 0.58867747, 0.5884615 , 0.5878287 ,\n",
       "        0.5874185 , 0.5857245 , 0.5850995 , 0.5820738 , 0.58154047,\n",
       "        0.5804024 , 0.5802021 , 0.57946604, 0.5789154 , 0.57828814,\n",
       "        0.5756753 , 0.57550126, 0.5754827 , 0.5751765 , 0.575097  ,\n",
       "        0.574228  , 0.5701908 , 0.569338  , 0.568609  , 0.56816494,\n",
       "        0.56602734, 0.5654471 , 0.56444955, 0.56418467, 0.56287366,\n",
       "        0.5526149 , 0.55224013, 0.54053646, 0.5026972 , 0.4620454 ]))"
      ]
     },
     "execution_count": 14,
     "metadata": {},
     "output_type": "execute_result"
    }
   ],
   "source": [
    "roc_curve(pred_data['Actual'],pred_data['PredictedProb'])"
   ]
  },
  {
   "cell_type": "code",
   "execution_count": 9,
   "metadata": {},
   "outputs": [],
   "source": [
    "# calculate roc curve\n",
    "fpr, tpr, thresholds = roc_curve(pred_data['Actual'],pred_data['PredictedProb'])"
   ]
  },
  {
   "cell_type": "code",
   "execution_count": 10,
   "metadata": {},
   "outputs": [
    {
     "name": "stdout",
     "output_type": "stream",
     "text": [
      "AUC: 0.590\n"
     ]
    }
   ],
   "source": [
    "# calculate AUC\n",
    "auc = roc_auc_score(pred_data['Actual'],pred_data['PredictedProb'])\n",
    "print('AUC: %.3f' % auc)"
   ]
  },
  {
   "cell_type": "code",
   "execution_count": 12,
   "metadata": {},
   "outputs": [],
   "source": [
    "lr_fpr, lr_tpr, _ = roc_curve(pred_data['Actual'],pred_data['PredictedProb'])"
   ]
  },
  {
   "cell_type": "code",
   "execution_count": 15,
   "metadata": {},
   "outputs": [],
   "source": [
    "lr_precision, lr_recall, _ = precision_recall_curve(pred_data['Actual'],pred_data['PredictedProb'])"
   ]
  },
  {
   "cell_type": "code",
   "execution_count": 13,
   "metadata": {},
   "outputs": [
    {
     "data": {
      "text/plain": [
       "<matplotlib.legend.Legend at 0x2941c927630>"
      ]
     },
     "execution_count": 13,
     "metadata": {},
     "output_type": "execute_result"
    },
    {
     "data": {
      "image/png": "[encoded data removed]",
      "text/plain": [
       "<Figure size 432x288 with 1 Axes>"
      ]
     },
     "metadata": {
      "needs_background": "light"
     },
     "output_type": "display_data"
    }
   ],
   "source": [
    "pyplot.plot(lr_fpr, lr_tpr, marker='.', label='NN Model')\n",
    "# axis labels\n",
    "pyplot.xlabel('False Positive Rate')\n",
    "pyplot.ylabel('True Positive Rate')\n",
    "# show the legend\n",
    "pyplot.legend()"
   ]
  },
  {
   "cell_type": "code",
   "execution_count": 16,
   "metadata": {},
   "outputs": [
    {
     "data": {
      "text/plain": [
       "<matplotlib.legend.Legend at 0x2941c99eef0>"
      ]
     },
     "execution_count": 16,
     "metadata": {},
     "output_type": "execute_result"
    },
    {
     "data": {
      "image/png": "[encoded data removed]",
      "text/plain": [
       "<Figure size 432x288 with 1 Axes>"
      ]
     },
     "metadata": {
      "needs_background": "light"
     },
     "output_type": "display_data"
    }
   ],
   "source": [
    "pyplot.plot(lr_recall, lr_precision, marker='.', label='NN Model')\n",
    "# axis labels\n",
    "pyplot.xlabel('Recall')\n",
    "pyplot.ylabel('Precision')\n",
    "# show the legend\n",
    "pyplot.legend()"
   ]
  },
  {
   "cell_type": "code",
   "execution_count": null,
   "metadata": {},
   "outputs": [],
   "source": []
  }
 ],
 "metadata": {
  "kernelspec": {
   "display_name": "Python 3",
   "language": "python",
   "name": "python3"
  },
  "language_info": {
   "codemirror_mode": {
    "name": "ipython",
    "version": 3
   },
   "file_extension": ".py",
   "mimetype": "text/x-python",
   "name": "python",
   "nbconvert_exporter": "python",
   "pygments_lexer": "ipython3",
   "version": "3.6.9"
  }
 },
 "nbformat": 4,
 "nbformat_minor": 2
}
